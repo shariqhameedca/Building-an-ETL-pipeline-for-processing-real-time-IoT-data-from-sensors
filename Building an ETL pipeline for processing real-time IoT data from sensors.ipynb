{
 "cells": [
  {
   "cell_type": "code",
   "execution_count": 14,
   "id": "6c879315",
   "metadata": {},
   "outputs": [],
   "source": [
    "import boto3\n",
    "import json\n",
    "import time\n",
    "import mysql.connector\n",
    "from mysql.connector import Error\n",
    "import time"
   ]
  },
  {
   "cell_type": "code",
   "execution_count": 32,
   "id": "b3a19fb6",
   "metadata": {},
   "outputs": [
    {
     "name": "stdout",
     "output_type": "stream",
     "text": [
      "Connected to MySQL Server version  5.5.5-10.4.27-MariaDB\n",
      "You're connected to database:  ('test_project',)\n"
     ]
    }
   ],
   "source": [
    "def connect_to_db(host, database, user, password):\n",
    "    try:\n",
    "        connection = mysql.connector.connect(host=host,\n",
    "                                             database=database,\n",
    "                                             user=user,\n",
    "                                             password=password)\n",
    "        if connection.is_connected():\n",
    "            db_Info = connection.get_server_info()\n",
    "            print(\"Connected to MySQL Server version \", db_Info)\n",
    "            cursor = connection.cursor()\n",
    "            cursor.execute(\"select database();\")\n",
    "            record = cursor.fetchone()\n",
    "            print(\"You're connected to database: \", record)\n",
    "\n",
    "    except Error as e:\n",
    "        print(\"Error while connecting to MySQL\", e)\n",
    "\n",
    "    cur = connection.cursor()\n",
    "    return connection, cur\n",
    "\n",
    "connection, curconnect_to_db(\"localhost\", \"test_project\", \"root\", \"\")"
   ]
  },
  {
   "cell_type": "code",
   "execution_count": 38,
   "id": "4fd810ec",
   "metadata": {},
   "outputs": [],
   "source": [
    "def extract(sensor_data_dict):\n",
    "    response = sqs.receive_message(\n",
    "        QueueUrl=queue_url,\n",
    "        AttributeNames=['All'],\n",
    "        MessageAttributeNames=['All'],\n",
    "        MaxNumberOfMessages=10,\n",
    "        VisibilityTimeout=20,\n",
    "        WaitTimeSeconds=20\n",
    "    )\n",
    "\n",
    "    # Check if any messages were received\n",
    "    if 'Messages' in response:\n",
    "        # Iterate over the messages\n",
    "        for message in response['Messages']:\n",
    "            # Parse the message body\n",
    "            message_body = json.loads(message['Body'])\n",
    "            message_id = message['MessageId']\n",
    "            temperature = message_body[\"temperature\"]\n",
    "            humidity = message_body[\"humidity\"]\n",
    "            timestamp = message_body[\"timestamp\"]\n",
    "\n",
    "            sensor_data[\"MessageId\"].append(message_id)\n",
    "            sensor_data[\"temperature\"].append(temperature)\n",
    "            sensor_data[\"humidity\"].append(humidity)\n",
    "            sensor_data[\"timestamp\"].append(timestamp)\n",
    "            \n",
    "            print(\"extracted\", temperature, humidity, timestamp)"
   ]
  },
  {
   "cell_type": "code",
   "execution_count": 47,
   "id": "e1681ce1",
   "metadata": {},
   "outputs": [],
   "source": [
    "def transform(data_dict):\n",
    "    record = {}\n",
    "    for sensor_name, sensor_readings in data_dict.items():\n",
    "        if sensor_name not in [\"MessageId\", \"timestamp\"]:\n",
    "            avg_reading = sum(sensor_readings)/len(sensor_readings)\n",
    "            record[sensor_name] = avg_reading\n",
    "    \n",
    "    record[\"MessageId\"] = data_dict[\"MessageId\"][-1]\n",
    "    record[\"timestamp\"] = data_dict[\"timestamp\"][-1]\n",
    "    \n",
    "    print(\"transformed to get\", record)\n",
    "    return record"
   ]
  },
  {
   "cell_type": "code",
   "execution_count": 40,
   "id": "26528674",
   "metadata": {},
   "outputs": [],
   "source": [
    "def load(record, cur):\n",
    "    data_ = (record[\"MessageId\"], record[\"temperature\"], record[\"humidity\"], record[\"timestamp\"])\n",
    "    cur.execute(\"INSERT INTO DATA VALUES (%s, %s, %s, %s)\", data_)\n",
    "    connection.commit()\n",
    "    print(\"stored\", data_)"
   ]
  },
  {
   "cell_type": "code",
   "execution_count": null,
   "id": "081145df",
   "metadata": {},
   "outputs": [],
   "source": [
    "sqs = boto3.client('sqs', region_name='us-east-1')\n",
    "\n",
    "queue_url = 'https://sqs.us-east-1.amazonaws.com/332120909569/IOTQueue.fifo'\n",
    "\n",
    "sensor_data = {\"MessageId\":[], \"temperature\":[], \"humidity\":[], \"timestamp\":[]}\n",
    "\n",
    "# Set up the start time\n",
    "start_time = time.time()\n",
    "\n",
    "# Set up the time interval for data aggregation\n",
    "interval = 20  # 10 seconds\n",
    "\n",
    "while True:\n",
    "    # Receive messages from the queue\n",
    "    extract(sensor_data)\n",
    "    current_time = time.time()\n",
    "    elapsed_time = current_time - start_time\n",
    "    if elapsed_time >= interval:\n",
    "        record = transform(sensor_data)\n",
    "        load(record, cur)\n",
    "        start_time = current_time"
   ]
  }
 ],
 "metadata": {
  "kernelspec": {
   "display_name": "Python 3",
   "language": "python",
   "name": "python3"
  },
  "language_info": {
   "codemirror_mode": {
    "name": "ipython",
    "version": 3
   },
   "file_extension": ".py",
   "mimetype": "text/x-python",
   "name": "python",
   "nbconvert_exporter": "python",
   "pygments_lexer": "ipython3",
   "version": "3.8.8"
  }
 },
 "nbformat": 4,
 "nbformat_minor": 5
}
